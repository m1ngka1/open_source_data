{
 "cells": [
  {
   "cell_type": "code",
   "execution_count": 1,
   "id": "f8efb47a",
   "metadata": {},
   "outputs": [
    {
     "name": "stdout",
     "output_type": "stream",
     "text": [
      "期货、现货、股票、外汇、外盘数据等（level2、逐笔、十档、五档、分钟、日）前往银河金融数据库获取（yinhedata.com）\n",
      "--------------------\n"
     ]
    }
   ],
   "source": [
    "import yinhedata as yh\n",
    "import pandas as pd"
   ]
  },
  {
   "cell_type": "markdown",
   "id": "d865ba0e",
   "metadata": {},
   "source": [
    "### 只能获取最近一个月的数据，可能需要付费？"
   ]
  },
  {
   "cell_type": "code",
   "execution_count": 17,
   "id": "973787d4",
   "metadata": {},
   "outputs": [
    {
     "name": "stdout",
     "output_type": "stream",
     "text": [
      "True\n"
     ]
    },
    {
     "data": {
      "text/html": [
       "<div>\n",
       "<style scoped>\n",
       "    .dataframe tbody tr th:only-of-type {\n",
       "        vertical-align: middle;\n",
       "    }\n",
       "\n",
       "    .dataframe tbody tr th {\n",
       "        vertical-align: top;\n",
       "    }\n",
       "\n",
       "    .dataframe thead th {\n",
       "        text-align: right;\n",
       "    }\n",
       "</style>\n",
       "<table border=\"1\" class=\"dataframe\">\n",
       "  <thead>\n",
       "    <tr style=\"text-align: right;\">\n",
       "      <th></th>\n",
       "      <th>开盘价</th>\n",
       "      <th>收盘价</th>\n",
       "      <th>最高价</th>\n",
       "      <th>最低价</th>\n",
       "      <th>成交量</th>\n",
       "      <th>成交额</th>\n",
       "      <th>时间</th>\n",
       "      <th>代码</th>\n",
       "    </tr>\n",
       "    <tr>\n",
       "      <th>date</th>\n",
       "      <th></th>\n",
       "      <th></th>\n",
       "      <th></th>\n",
       "      <th></th>\n",
       "      <th></th>\n",
       "      <th></th>\n",
       "      <th></th>\n",
       "      <th></th>\n",
       "    </tr>\n",
       "  </thead>\n",
       "  <tbody>\n",
       "    <tr>\n",
       "      <th>2025-06-03</th>\n",
       "      <td>27.05</td>\n",
       "      <td>28.08</td>\n",
       "      <td>28.21</td>\n",
       "      <td>27.05</td>\n",
       "      <td>1949152.0</td>\n",
       "      <td>54247492.0</td>\n",
       "      <td>2025-06-03 15:00</td>\n",
       "      <td>001226</td>\n",
       "    </tr>\n",
       "    <tr>\n",
       "      <th>2025-06-04</th>\n",
       "      <td>28.08</td>\n",
       "      <td>28.53</td>\n",
       "      <td>28.53</td>\n",
       "      <td>27.78</td>\n",
       "      <td>2066100.0</td>\n",
       "      <td>58278496.0</td>\n",
       "      <td>2025-06-04 15:00</td>\n",
       "      <td>001226</td>\n",
       "    </tr>\n",
       "    <tr>\n",
       "      <th>2025-06-05</th>\n",
       "      <td>28.54</td>\n",
       "      <td>29.36</td>\n",
       "      <td>29.55</td>\n",
       "      <td>27.93</td>\n",
       "      <td>3711918.0</td>\n",
       "      <td>106925264.0</td>\n",
       "      <td>2025-06-05 15:00</td>\n",
       "      <td>001226</td>\n",
       "    </tr>\n",
       "    <tr>\n",
       "      <th>2025-06-06</th>\n",
       "      <td>30.24</td>\n",
       "      <td>27.95</td>\n",
       "      <td>30.30</td>\n",
       "      <td>27.30</td>\n",
       "      <td>6708414.0</td>\n",
       "      <td>191788480.0</td>\n",
       "      <td>2025-06-06 15:00</td>\n",
       "      <td>001226</td>\n",
       "    </tr>\n",
       "    <tr>\n",
       "      <th>2025-06-09</th>\n",
       "      <td>27.06</td>\n",
       "      <td>27.55</td>\n",
       "      <td>27.80</td>\n",
       "      <td>27.06</td>\n",
       "      <td>2852200.0</td>\n",
       "      <td>78600856.0</td>\n",
       "      <td>2025-06-09 15:00</td>\n",
       "      <td>001226</td>\n",
       "    </tr>\n",
       "  </tbody>\n",
       "</table>\n",
       "</div>"
      ],
      "text/plain": [
       "              开盘价    收盘价    最高价    最低价        成交量          成交额  \\\n",
       "date                                                             \n",
       "2025-06-03  27.05  28.08  28.21  27.05  1949152.0   54247492.0   \n",
       "2025-06-04  28.08  28.53  28.53  27.78  2066100.0   58278496.0   \n",
       "2025-06-05  28.54  29.36  29.55  27.93  3711918.0  106925264.0   \n",
       "2025-06-06  30.24  27.95  30.30  27.30  6708414.0  191788480.0   \n",
       "2025-06-09  27.06  27.55  27.80  27.06  2852200.0   78600856.0   \n",
       "\n",
       "                          时间      代码  \n",
       "date                                  \n",
       "2025-06-03  2025-06-03 15:00  001226  \n",
       "2025-06-04  2025-06-04 15:00  001226  \n",
       "2025-06-05  2025-06-05 15:00  001226  \n",
       "2025-06-06  2025-06-06 15:00  001226  \n",
       "2025-06-09  2025-06-09 15:00  001226  "
      ]
     },
     "execution_count": 17,
     "metadata": {},
     "output_type": "execute_result"
    }
   ],
   "source": [
    "df = yh.history_stock_data(\n",
    "    # code = 'SH.600519',\n",
    "    code = 'SZ.001226',\n",
    "    start_date = '2025-06-01',\n",
    "    end_date = '2025-06-18',\n",
    "    period='D',\n",
    ")\n",
    "print(isinstance(df, pd.DataFrame))\n",
    "df.head()"
   ]
  },
  {
   "cell_type": "code",
   "execution_count": 18,
   "id": "d3b9e99f",
   "metadata": {},
   "outputs": [
    {
     "name": "stdout",
     "output_type": "stream",
     "text": [
      "只能获取最近1个月的数据！！\n",
      "'int' object has no attribute 'columns'\n",
      "遇到了一个错误，请检查入参是否正确！若入参无误，可以尝试更新到最新版本\n",
      "False\n"
     ]
    }
   ],
   "source": [
    "df = yh.history_stock_data(\n",
    "    # code = 'SH.600519',\n",
    "    code = 'SZ.001226',\n",
    "    start_date = '2024-06-01',\n",
    "    end_date = '2025-06-18',\n",
    "    period='D',\n",
    ")\n",
    "print(isinstance(df, pd.DataFrame))"
   ]
  },
  {
   "cell_type": "code",
   "execution_count": null,
   "id": "3e5650e6",
   "metadata": {},
   "outputs": [],
   "source": []
  }
 ],
 "metadata": {
  "kernelspec": {
   "display_name": "open_source_data",
   "language": "python",
   "name": "python3"
  },
  "language_info": {
   "codemirror_mode": {
    "name": "ipython",
    "version": 3
   },
   "file_extension": ".py",
   "mimetype": "text/x-python",
   "name": "python",
   "nbconvert_exporter": "python",
   "pygments_lexer": "ipython3",
   "version": "3.12.11"
  }
 },
 "nbformat": 4,
 "nbformat_minor": 5
}
